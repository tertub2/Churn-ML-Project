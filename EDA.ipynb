{
 "cells": [
  {
   "cell_type": "markdown",
   "id": "6e58bc6c",
   "metadata": {},
   "source": [
    "# EDA \n",
    "\n",
    "Since we want to see if the target variable being the churn, we will explore the other variables and the relationship they have for this parcitular variable.\n",
    "\n",
    "For this, we will use a script: \n",
    "\n",
    "1.Load and check the dataset\n",
    "\n",
    "2.Check for missing values and outliers\n",
    "\n",
    "3.Explore the features\n",
    "\n",
    "4.Analyze the relationship between the features and the target variable (churn)\n"
   ]
  },
  {
   "cell_type": "code",
   "execution_count": null,
   "id": "f0e4fc0a",
   "metadata": {},
   "outputs": [],
   "source": [
    "# Import the necessary libraries\n",
    "import pandas as pd\n",
    "import numpy as np\n",
    "import matplotlib.pyplot as plt\n",
    "import seaborn as sns\n",
    "\n",
    "# Load the dataset\n",
    "df = pd.read_csv('telecom_churn.csv')\n",
    "\n",
    "# Check the first 5 rows of the dataset\n",
    "df.head(5)"
   ]
  },
  {
   "cell_type": "code",
   "execution_count": null,
   "id": "44aa23e7",
   "metadata": {},
   "outputs": [],
   "source": [
    "# Check the shape of the dataset\n",
    "print('Shape of the dataset:', df.shape)"
   ]
  },
  {
   "cell_type": "markdown",
   "id": "d08fc14a",
   "metadata": {},
   "source": [
    "## Check the missing values\n",
    "\n",
    "For this part the missing values for the different features are checked and if the outliers are significative for our further model buliding"
   ]
  },
  {
   "cell_type": "code",
   "execution_count": null,
   "id": "dcefc4a5",
   "metadata": {
    "scrolled": true
   },
   "outputs": [],
   "source": [
    "# Check for missing values\n",
    "print('Missing values:\\n', df.isnull().sum())\n",
    "\n",
    "# Check for outliers\n",
    "plt.figure(figsize=(15, 6))\n",
    "sns.boxplot(data=df.drop(['ContractRenewal', 'Churn'], axis=1))\n",
    "plt.show()"
   ]
  },
  {
   "cell_type": "markdown",
   "id": "71fbefc2",
   "metadata": {},
   "source": [
    "## Explore the features\n",
    "\n",
    "With this primary analysys, it can be seen that there are no missing values in the dataset.\n",
    "\n",
    "So, the next step will be the exploration of the features in our dataset."
   ]
  },
  {
   "cell_type": "code",
   "execution_count": null,
   "id": "dc797c6d",
   "metadata": {},
   "outputs": [],
   "source": [
    "# Explore the features\n",
    "print('Number of weeks customer has had active account:')\n",
    "print(df['AccountWeeks'].value_counts(normalize=True))\n",
    "print('----------------------------------')\n",
    "print('Distribution of Renewal Contract:')\n",
    "print(df['ContractRenewal'].value_counts(normalize=True))\n",
    "print('----------------------------------')\n",
    "print('Distribution of Data Plan:')\n",
    "print(df['DataPlan'].value_counts(normalize=True))\n",
    "print('----------------------------------')\n",
    "print('Distribution of Data Usage (GB):')\n",
    "print(df['DataUsage'].value_counts(normalize=True))\n",
    "print('----------------------------------')\n",
    "print('Distribution of Number of calls:')\n",
    "print(df['CustServCalls'].describe())\n",
    "print('Distribution of Average daytime minutes per month:')\n",
    "print(df['DayMins'].describe())\n",
    "print('Distribution of Average number of daytime calls')\n",
    "print(df['DayCalls'].describe())\n",
    "print('Distribution of Average number of daytime calls:')\n",
    "print(df['MonthlyCharge'].describe())\n",
    "print('Largest overage fee in last 12 months:')\n",
    "print(df['OverageFee'].describe())\n",
    "print('-')\n",
    "print(df['RoamMins'].describe())"
   ]
  },
  {
   "cell_type": "code",
   "execution_count": null,
   "id": "322503f8",
   "metadata": {},
   "outputs": [],
   "source": [
    "# Analyze the relationship between the features and the target variable (Churn)\n",
    "plt.figure(figsize=(12,6))\n",
    "sns.countplot(data=df, x='Churn')\n",
    "plt.show()\n",
    "\n",
    "plt.figure(figsize=(12,6))\n",
    "sns.countplot(data=df, x='AccountWeeks', hue='Churn')\n",
    "plt.show()\n",
    "\n",
    "plt.figure(figsize=(12,6))\n",
    "sns.countplot(data=df, x='ContractRenewal', hue='Churn')\n",
    "plt.show()\n",
    "\n",
    "plt.figure(figsize=(12,6))\n",
    "sns.countplot(data=df, x='DataPlan', hue='Churn')\n",
    "plt.show()\n",
    "\n",
    "plt.figure(figsize=(12,6))\n",
    "sns.countplot(data=df, x='DataPlan', hue='Churn')\n",
    "plt.show()\n",
    "\n",
    "plt.figure(figsize=(12,6))\n",
    "sns.countplot(data=df, x='CustServCalls', hue='Churn')\n",
    "plt.show()"
   ]
  },
  {
   "cell_type": "markdown",
   "id": "f96b8ba5",
   "metadata": {},
   "source": [
    "## From the feature analysis, it can ben seen:\n",
    "\n",
    "There are no missing values in the dataset.\n",
    "\n",
    "The majority of customers have a renewal contract.\n",
    "\n",
    "The majority of customers do not have a data plan.\n",
    "\n",
    "The majority of customers use less than 1 GB of data per month.\n",
    "\n",
    "The majority of customers make 1 or 2 customer service calls.\n",
    "\n",
    "The average daytime minutes per month is around 180.\n",
    "\n",
    "The average number of daytime calls is around 100.\n",
    "\n",
    "The average monthly charge is around 56 dolars.\n",
    "\n",
    "The largest overage fee in the last 12 months is around 10 dolars.\n",
    "\n",
    "The average number of roaming minutes per month is around 10.\n",
    "\n",
    "There are no significant outliers in any of the features."
   ]
  },
  {
   "cell_type": "markdown",
   "id": "f2e0eeec",
   "metadata": {},
   "source": [
    "## Analysing features relationship \n",
    "\n",
    "Furthermore, we can use visualization techniques like scatter plots, box plots, and histograms to analyze the relationships between features and the target variable (Churn).\n",
    "\n",
    "For this we will use the two categorical features first and identifie their relations with the churn."
   ]
  },
  {
   "cell_type": "code",
   "execution_count": null,
   "id": "47a0a02e",
   "metadata": {},
   "outputs": [],
   "source": [
    "#Data Usage and Data plan analysys\n",
    "sns.catplot(x=\"ContractRenewal\", y=\"DataUsage\", hue=\"Churn\",data=df)\n",
    "plt.suptitle(\"Data Usage vs Contact Renewal Relationship\",y=1.1, size=18, weight='bold')"
   ]
  },
  {
   "cell_type": "code",
   "execution_count": null,
   "id": "1c3b32c6",
   "metadata": {},
   "outputs": [],
   "source": [
    "# calculate the correlation matrix\n",
    "corr_matrix = df.corr()\n",
    "\n",
    "# sort the correlations by the absolute value\n",
    "corr_churn = corr_matrix['Churn'].abs().sort_values(ascending=False)\n",
    "\n",
    "# print the top 10 correlations\n",
    "print(corr_churn.head(10))"
   ]
  },
  {
   "cell_type": "markdown",
   "id": "f28007ad",
   "metadata": {},
   "source": [
    "## Insights from correlation matrix\n",
    "With this analysys can be seen that some variables do not indicate the customer's churn and some do, because a correlation coefficient ranges from -1 to 1 and indicates the strength and direction of the relationship between two variables.\n",
    "\n",
    "It can be seen from the correlation matrix, that ContractRenewal, CustServCalls, DayMins, DataPlan, OverageFee, DataUsage, MonthlyCharge, RoamMins, and DayCalls are all positively correlated with Churn, but to varying degrees. This means that as these features increase, the likelihood of Churn also increases.\n",
    "\n",
    "Another insight is the highest positive correlation is with ContractRenewal, which **suggests that customers who do not renew their contracts are more likely to churn**. Meanwhile, DayCalls has the lowest positive correlation with Churn, **indicating a weaker relationship**."
   ]
  },
  {
   "cell_type": "markdown",
   "id": "8b0d858a",
   "metadata": {},
   "source": [
    "## Insights from correlation matrix\n"
   ]
  },
  {
   "cell_type": "code",
   "execution_count": null,
   "id": "4fe776c5",
   "metadata": {},
   "outputs": [],
   "source": []
  }
 ],
 "metadata": {
  "kernelspec": {
   "display_name": "Python 3 (ipykernel)",
   "language": "python",
   "name": "python3"
  },
  "language_info": {
   "codemirror_mode": {
    "name": "ipython",
    "version": 3
   },
   "file_extension": ".py",
   "mimetype": "text/x-python",
   "name": "python",
   "nbconvert_exporter": "python",
   "pygments_lexer": "ipython3",
   "version": "3.9.13"
  }
 },
 "nbformat": 4,
 "nbformat_minor": 5
}
